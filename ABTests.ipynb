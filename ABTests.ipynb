{
 "cells": [
  {
   "cell_type": "code",
   "execution_count": 2,
   "metadata": {
    "executionInfo": {
     "elapsed": 20,
     "status": "ok",
     "timestamp": 1674542284785,
     "user": {
      "displayName": "Nikolay Nazarov",
      "userId": "18018785782997408667"
     },
     "user_tz": -420
    },
    "id": "DgDoo1X66eKj"
   },
   "outputs": [],
   "source": [
    "import math\n",
    "\n",
    "import numpy as np\n",
    "import matplotlib.pyplot as plt\n",
    "import scipy.stats as stats"
   ]
  },
  {
   "cell_type": "code",
   "execution_count": 3,
   "metadata": {
    "executionInfo": {
     "elapsed": 19,
     "status": "ok",
     "timestamp": 1674542284786,
     "user": {
      "displayName": "Nikolay Nazarov",
      "userId": "18018785782997408667"
     },
     "user_tz": -420
    },
    "id": "lK93TRWW6eKm"
   },
   "outputs": [],
   "source": [
    "plt.rcParams['legend.markerscale'] = 1.5     # the relative size of legend markers vs. original\n",
    "plt.rcParams['legend.handletextpad'] = 0.5\n",
    "plt.rcParams['legend.labelspacing'] = 0.4    # the vertical space between the legend entries in fraction of fontsize\n",
    "plt.rcParams['legend.borderpad'] = 0.5       # border whitespace in fontsize units\n",
    "plt.rcParams['font.size'] = 12\n",
    "plt.rcParams['font.serif'] = 'Times New Roman'\n",
    "plt.rcParams['axes.labelsize'] = 22\n",
    "plt.rcParams['axes.titlesize'] = 24\n",
    "plt.rcParams['figure.figsize'] = (10, 6)\n",
    "\n",
    "plt.rc('xtick', labelsize=18)\n",
    "plt.rc('ytick', labelsize=18)\n",
    "plt.rc('legend', fontsize=22)"
   ]
  },
  {
   "cell_type": "markdown",
   "metadata": {
    "id": "IyDZ-09R6eKn"
   },
   "source": [
    "# 1. Общий случай\n",
    "\n",
    "## Статистическая гипотеза и статистический критерий\n",
    "\n",
    "**Статистическая гипотеза** $-$ любое предположение о распределении и свойствах случайной величины.\n",
    "\n",
    "**Cтатистический критерий** $-$ математическое правило, позволяющее по реализациям выборок отвергнуть или не отвергнуть нулевую гипотезу с заданным уровнем значимости."
   ]
  },
  {
   "cell_type": "markdown",
   "metadata": {
    "id": "LEGmliTv6eKp"
   },
   "source": [
    "Дана выборка $X_1, \\ldots, X_n \\sim F$.\n",
    "\n",
    "Хотим проверить простую гипотезу $H_0$ против сложной альтернативы $H_1$.\n",
    "\n",
    "Пусть можно задать функцию $t (X^n)$, обладающую свойствами:\n",
    "\n",
    "1. если $H_0$ верна, то $t (X^n) \\Rightarrow G$, где $G$ — непрерывное распределение;\n",
    "2. если $H_0$ неверна, то $|t (X^n)| \\overset{P}{\\to} \\infty$ при $n\\to \\infty$.\n",
    "\n",
    "\n",
    "Для СВ $Y\\sim G$ определим постоянную $C$ из равенства $\\alpha = \\mathbb{P}(|Y| \\geq C)$.\n",
    "\n",
    "Тогда критерий:\n",
    "\\begin{equation*}\n",
    "    \\delta (X^n) = \n",
    "    \\left\\{\n",
    "    \\begin{aligned}\n",
    "        &H_0,\\ если\\ t(X^n) < C,\\\\\n",
    "        &H_1,\\ если\\ t(X^n) \\geq C\n",
    "    \\end{aligned}\n",
    "    \\right.\n",
    "\\end{equation*}"
   ]
  },
  {
   "cell_type": "markdown",
   "metadata": {},
   "source": [
    "`Пример 1`\n",
    "Возьмем монетку и проверим ее на симметричноть:\n",
    "- $H_0$ = вероятность выпадения орлом или решкой равна 0.5\n",
    "- $H_1$ = вероятность выпадения орлом или решкой не равна 0.5\n",
    "\n",
    "Для проверки необходимо: \n",
    "- Смоделировать выборку из подбрасывания монеток\n",
    "- Задать функцию $t (X^n)$, которая зависит от нашей выборки и обладает следующими свойствами: \\\n",
    "1) Если $H_0$ верна, то функция/статистика имеет известное нам распределение \\\n",
    "2) Если $H_0$ неверна, то функция/статистика вместе с увеличением выборки стремится к бесконечности\n",
    "- Для случайной величины найти ее критическую область из равенства = вероятность ошибки I рода должна контролироваться \\\n",
    "(т.е. вероятность того, что случайная величина будет превосходить критическую область)\n",
    "\n",
    "Тогда критерий оценки гипотез равен:\n",
    "- Мы не отвергаем $H_0$, если мы не попали в критическую область\n",
    "- Мы отвергаем $H_0$, если мы попали в критическую область"
   ]
  },
  {
   "cell_type": "code",
   "execution_count": 7,
   "metadata": {
    "colab": {
     "base_uri": "https://localhost:8080/"
    },
    "executionInfo": {
     "elapsed": 18,
     "status": "ok",
     "timestamp": 1674542284787,
     "user": {
      "displayName": "Nikolay Nazarov",
      "userId": "18018785782997408667"
     },
     "user_tz": -420
    },
    "id": "e_wW0irZfxgn",
    "outputId": "5939931d-7566-4408-ac04-b25a6e590575"
   },
   "outputs": [
    {
     "data": {
      "text/plain": [
       "0.6"
      ]
     },
     "execution_count": 7,
     "metadata": {},
     "output_type": "execute_result"
    }
   ],
   "source": [
    "true_p = 0.5\n",
    "size = 100\n",
    "#сделаем монетку симметричной\n",
    "#подбросим монетку 100 раз\n",
    "\n",
    "x = np.random.binomial(1, p=true_p, size=size)\n",
    "#генерация выборки с биномиального распределения\n",
    "#подбрасываем монетку 1 раз с вероятностью 0.5 и повторяем это 100 раз\n",
    "\n",
    "def t(x):\n",
    "    return np.abs(np.mean(x) - 1/2) * size ** 0.5\n",
    "t(x)\n",
    "#используем ЦПТ"
   ]
  },
  {
   "cell_type": "markdown",
   "metadata": {
    "id": "YLtE1hZ96eKq"
   },
   "source": [
    "## Уровень значимости, мощность, критическая область\n",
    "\n",
    "**Уровень значимости** $-$ вероятность отклонить нулевую гипотезу при условии её истинности.\n",
    "\n",
    "**Статистическая мощность** $-$ вероятность отклонения основной гипотезы в случае, когда альтернативная гипотеза верна.\n",
    "\n",
    "**Критическая область** $-$ область выборочного пространства, при попадании в которую нулевая гипотеза отклоняется."
   ]
  },
  {
   "cell_type": "markdown",
   "metadata": {
    "id": "Vvb_n3fL6eKq"
   },
   "source": [
    "## Этапы проверки статистических гипотез\n",
    "\n",
    "\n",
    "1. Выдвижение основной гипотезы $H_0$ и альтернативной гипотезы $H_1$.\n",
    "2. Выбор уровня значимости $\\alpha$, на котором будет сделан вывод о справедливости гипотезы. Он равен вероятности допустить ошибку первого рода.\n",
    "3. Расчет статистики критерия такой, что она зависит от выборки, и по её значению можно сделать вывод об истинности нулевой гипотезы.\n",
    "4. Построение критической области.\n",
    "5. По попаданию или непопаданию значения статистики в критическую область делается вывод об истинности выдвинутой гипотезы на выбранном уровне значимости.\n"
   ]
  },
  {
   "cell_type": "markdown",
   "metadata": {
    "id": "y5KEyinD6eKq"
   },
   "source": [
    "# 2. Тест Стьюдента\n",
    "\n",
    "## Гипотеза о равенстве средних\n",
    "\n",
    "Нулевая и альтернативная гипотезы:\n",
    "\n",
    "- $H_0:$ средние двух групп равны, $m_1 = m_2$\n",
    "\n",
    "- $H_1:$ средние двух групп неравны, $m_1 \\ne m_2$"
   ]
  },
  {
   "cell_type": "markdown",
   "metadata": {
    "id": "Bn4qXHl56eKr"
   },
   "source": [
    "## Распределение Стьюдента\n",
    "\n",
    "Для выборки $X_1, X_2, \\ldots, X_n \\sim N(\\mu, \\sigma^2)$ из нормального распределения с неизвестной дисперсией мы можем определить статистику: выборочное среднее, выборочное отклонение, t-статистика\n",
    "\n",
    "$$ \n",
    "    \\left<X\\right> = \\frac1n \\sum_{i=1}^n X_i,\\quad\n",
    "    S^2 = \\frac1{n-1} \\sum_{i=1}^n (X_i - \\left<X\\right>)^2, \\quad\n",
    "    t = \\frac{\\left<X\\right> - \\mu}{\\dfrac{S}{\\sqrt{n}}}.\n",
    "$$    \n",
    "\n",
    "При этом случайная величина $t$ имеет распределение Стьюдента с (n-1) степенью свободы. При росте n распределение стремится к нормальному, но в практически значимых случаях конечных выборок у этого распределения значительно более тяжелые хвосты, что повышает шансы заметных отклонений."
   ]
  },
  {
   "cell_type": "code",
   "execution_count": 4,
   "metadata": {
    "colab": {
     "base_uri": "https://localhost:8080/",
     "height": 431
    },
    "executionInfo": {
     "elapsed": 1139,
     "status": "ok",
     "timestamp": 1674542285913,
     "user": {
      "displayName": "Nikolay Nazarov",
      "userId": "18018785782997408667"
     },
     "user_tz": -420
    },
    "id": "qtOiZtR06eKs",
    "outputId": "a54d8d7d-aeca-42d8-95fb-85703127e169"
   },
   "outputs": [
    {
     "data": {
      "text/plain": "<Figure size 1000x600 with 1 Axes>",
      "image/png": "[encoded data removed]"
     },
     "metadata": {},
     "output_type": "display_data"
    }
   ],
   "source": [
    "X = np.linspace(-5, 5, 100)\n",
    "list_k = [1, 2, 5, 20]\n",
    "for k in list_k:\n",
    "    Y = stats.t.pdf(X, k)\n",
    "    plt.plot(X, Y, label=f'k={k}')\n",
    "\n",
    "Y = stats.norm.pdf(X, 0, 1)\n",
    "plt.plot(X, Y, '--', label='norm', linewidth=4)\n",
    "\n",
    "plt.legend()\n",
    "plt.title('Распределение статистики Стьюдента')\n",
    "plt.xlabel('x')\n",
    "plt.grid()\n",
    "plt.show()\n",
    "#чем больше степений свободы, тем ближе к нормальному распределению"
   ]
  },
  {
   "cell_type": "code",
   "execution_count": 32,
   "outputs": [
    {
     "data": {
      "text/plain": "0.6826894921370859"
     },
     "execution_count": 32,
     "metadata": {},
     "output_type": "execute_result"
    }
   ],
   "source": [
    "stats.norm.cdf(1) - stats.norm.cdf(-1)  # веротяность, что величина <= t"
   ],
   "metadata": {
    "collapsed": false
   }
  },
  {
   "cell_type": "code",
   "execution_count": 34,
   "outputs": [
    {
     "name": "stdout",
     "output_type": "stream",
     "text": [
      "H1, 7.657208200839705e-13 < 0.05\n"
     ]
    },
    {
     "data": {
      "text/plain": "7.657208200839705e-13"
     },
     "execution_count": 34,
     "metadata": {},
     "output_type": "execute_result"
    }
   ],
   "source": [
    "X = np.linspace(-5, 5, 100)\n",
    "Y = np.linspace(-15, 5, 100)\n",
    "t_criterion(X, Y)"
   ],
   "metadata": {
    "collapsed": false
   }
  },
  {
   "cell_type": "markdown",
   "metadata": {
    "id": "jYnZW7-n6eKt"
   },
   "source": [
    "## Тест Стьюдента\n",
    "\n",
    "Есть две выборки: $X_1,\\ldots,X_{n_1}\\sim N(\\mu_1, \\sigma_1)$ и $Y_1,\\ldots,Y_{n_2}\\sim N(\\mu_2, \\sigma_2)$.\n",
    "    \n",
    "Гипотезы: \n",
    "- $H_0$: матожидания 2-х выборок равны\n",
    "- $H_1$: матожидания 2-х выборок не равны.\n",
    "\n",
    "Статистика теста:\n",
    "$$t(X^n, Y^n) = \\dfrac{\\overline{Y} - \\overline{X}}{\\sqrt{\\dfrac{S^2_X}{n_1} + \\dfrac{S^2_Y}{n_2}}} \\approx St(\\nu), \\qquad \\nu = \\frac{\\left(\\dfrac{S^2_X}{n_1} + \\dfrac{S^2_Y}{n_2}\\right)^2}{\\dfrac{S_X^4}{n_1^2 (n_1 - 1)} + \\dfrac{S_Y^4}{n_2^2 (n_2 - 1)}}$$"
   ]
  },
  {
   "cell_type": "markdown",
   "source": [
    "Реализованный мной"
   ],
   "metadata": {
    "collapsed": false
   }
  },
  {
   "cell_type": "code",
   "execution_count": 33,
   "outputs": [],
   "source": [
    "import math\n",
    "\n",
    "def t_criterion(A: np.ndarray, B: np.ndarray, alpha: float = 0.05, bidirectional: bool = True) -> float:\n",
    "    t = abs(A.mean() - B.mean()) / math.sqrt(A.std() ** 2 / len(A) + B.std() ** 2 / len(B))\n",
    "    freedom_degrees = len(A) + len(B) - 2\n",
    "    if bidirectional:\n",
    "        p_value = 1 - (stats.t.cdf(t, freedom_degrees) - stats.t.cdf(-t, freedom_degrees))\n",
    "    else:\n",
    "        p_value = 1 - (stats.t.cdf(t, freedom_degrees))  # 1 - веротяность, что величина <= t\n",
    "    if p_value < alpha:\n",
    "        print(f\"H1, {p_value} < {alpha}\")\n",
    "    elif p_value > alpha:\n",
    "        print(f\"H0, {p_value} > {alpha}\")\n",
    "    else:\n",
    "        print(f\"{p_value} = {alpha}\")\n",
    "    return p_value"
   ],
   "metadata": {
    "collapsed": false
   }
  },
  {
   "cell_type": "markdown",
   "metadata": {
    "id": "yaMpqRAHOcOt"
   },
   "source": [
    "Самостоятельно реализуем вычисление t-статистики: "
   ]
  },
  {
   "cell_type": "code",
   "execution_count": 9,
   "metadata": {
    "executionInfo": {
     "elapsed": 117,
     "status": "ok",
     "timestamp": 1674542285916,
     "user": {
      "displayName": "Nikolay Nazarov",
      "userId": "18018785782997408667"
     },
     "user_tz": -420
    },
    "id": "IP4FkS6t6eKu"
   },
   "outputs": [],
   "source": [
    "def get_student_parameter(data_one: np.array, data_two: np.array) -> float:\n",
    "    \"\"\"Вычисляет параметр функции распределения Стьюдента.\"\"\"\n",
    "    len_one, len_two = len(data_one), len(data_one)\n",
    "    std_one, std_two = np.std(data_one), np.std(data_two)\n",
    "    k = (\n",
    "        ((std_one ** 2) / len_one + (std_two ** 2) / len_two) ** 2\n",
    "        / (\n",
    "            (std_one ** 4) / ((len_one ** 2) * (len_one - 1))\n",
    "            + (std_two ** 4) / ((len_two ** 2) * (len_two - 1))\n",
    "        )\n",
    "    )\n",
    "    return k\n",
    "\n",
    "\n",
    "def get_ttest_statistic(data_one: np.array, data_two: np.array) -> float:\n",
    "    \"\"\"Считает статистику Стьюдента\"\"\"\n",
    "    len_one, len_two = len(data_one), len(data_two)\n",
    "    mean_one, mean_two = np.mean(data_one), np.mean(data_two)\n",
    "    std_one, std_two = np.std(data_one, ddof=1), np.std(data_two, ddof=1)\n",
    "    t = (mean_two - mean_one) / np.sqrt((std_two**2 / len_two) + (std_one**2 / len_one))\n",
    "    return t"
   ]
  },
  {
   "cell_type": "markdown",
   "metadata": {
    "id": "zt5QcX3-5A18"
   },
   "source": [
    "Сверим результаты с готовой реализацией теста"
   ]
  },
  {
   "cell_type": "code",
   "execution_count": 10,
   "metadata": {
    "colab": {
     "base_uri": "https://localhost:8080/"
    },
    "executionInfo": {
     "elapsed": 117,
     "status": "ok",
     "timestamp": 1674542285918,
     "user": {
      "displayName": "Nikolay Nazarov",
      "userId": "18018785782997408667"
     },
     "user_tz": -420
    },
    "id": "Eo6E69qw6eKv",
    "outputId": "d2b1515d-ec64-4e71-ed43-cde6fafc5d92"
   },
   "outputs": [
    {
     "name": "stdout",
     "output_type": "stream",
     "text": [
      "student_parameter = 196.53643393447297\n",
      "critical_region_bounds = [-1.97210778  1.97210778]\n",
      "ttest_statistic = 1.8203056424009751\n",
      "pvalue = 0.0702335577441075\n",
      "stats.ttest_ind = Ttest_indResult(statistic=1.8203056424009751, pvalue=0.07022230781028711)\n"
     ]
    }
   ],
   "source": [
    "sample_size = 100\n",
    "alpha = 0.05\n",
    "\n",
    "np.random.seed(44)\n",
    "data_control = np.random.normal(1, 1, sample_size)\n",
    "data_pilot = np.random.normal(1.2, 1, sample_size)\n",
    "\n",
    "k = get_student_parameter(data_control, data_pilot)\n",
    "print(f'student_parameter = {k}')\n",
    "\n",
    "critical_region_bounds = stats.t.ppf([alpha/2, 1 - alpha/2], df=k)\n",
    "print(f'critical_region_bounds = {critical_region_bounds}')\n",
    "\n",
    "ttest_statistic = get_ttest_statistic(data_control, data_pilot)\n",
    "print(f'ttest_statistic = {ttest_statistic}')\n",
    "\n",
    "pvalue = stats.t.cdf(-np.abs(ttest_statistic), df=k) * 2\n",
    "print(f'pvalue = {pvalue}')\n",
    "\n",
    "# сверим с готовой реализацией\n",
    "ttest_statistic_real, pvalue_real = stats.ttest_ind(data_pilot, data_control)\n",
    "print(f'stats.ttest_ind = {stats.ttest_ind(data_pilot, data_control)}')\n",
    "assert np.isclose(ttest_statistic_real, ttest_statistic, 1e-9), 'Статистика посчитана неверно'"
   ]
  },
  {
   "cell_type": "markdown",
   "metadata": {
    "id": "HnfT3IBQ6A2Q"
   },
   "source": [
    "Построим критические области критерия"
   ]
  },
  {
   "cell_type": "code",
   "execution_count": 11,
   "metadata": {
    "colab": {
     "base_uri": "https://localhost:8080/",
     "height": 431
    },
    "executionInfo": {
     "elapsed": 1158,
     "status": "ok",
     "timestamp": 1674542287041,
     "user": {
      "displayName": "Nikolay Nazarov",
      "userId": "18018785782997408667"
     },
     "user_tz": -420
    },
    "id": "rX4bQN2E6eKv",
    "outputId": "3e3c8466-6a85-4831-c2ae-80b60338ec1f"
   },
   "outputs": [
    {
     "data": {
      "image/png": "[encoded data removed]",
      "text/plain": [
       "<Figure size 1000x600 with 1 Axes>"
      ]
     },
     "metadata": {},
     "output_type": "display_data"
    }
   ],
   "source": [
    "X = np.linspace(-3, 3, 1000)\n",
    "Y = stats.t.pdf(X, k)\n",
    "\n",
    "plt.plot(X, Y, label=f'St (k={k:0.0f})')\n",
    "\n",
    "critical_mask_list = [X < critical_region_bounds[0], X > critical_region_bounds[1]]\n",
    "for idx, mask in enumerate(critical_mask_list):\n",
    "    X_ = X[mask]\n",
    "    Y_upper = Y[mask]\n",
    "    Y_down = np.zeros(len(Y_upper))\n",
    "    plt.fill_between(\n",
    "        X_, Y_down, Y_upper,\n",
    "        color='r', alpha=0.3,\n",
    "        label='critical region' if idx==0 else ''\n",
    "    )\n",
    "\n",
    "plt.scatter([ttest_statistic], [0], color='k', label='t-statistic')\n",
    "\n",
    "plt.title('Распределение статистики при H0')\n",
    "plt.xlabel('t')\n",
    "plt.legend()\n",
    "plt.grid()\n",
    "plt.show()"
   ]
  },
  {
   "cell_type": "markdown",
   "metadata": {
    "id": "BiE-_K2S6eKw"
   },
   "source": [
    "# 3. Двусторонний и односторонние критерии\n",
    "\n",
    "Критическая область зависит от альтернативы\n",
    "\n",
    "#### Двусторонний критерий\n",
    "\n",
    "- $H_1$: $\\theta \\ne \\theta_0$\n",
    "\n",
    "#### Правосторонняя гипотеза\n",
    "\n",
    "- $H_1$: $\\theta > \\theta_0$\n",
    "\n",
    "#### Левосторонняя гипотеза\n",
    "\n",
    "- $H_1$: $\\theta < \\theta_0$\n",
    "\n",
    "Для гипотезы о равенстве средних $\\theta = t$ и $\\theta_0 = 0$.\n",
    "\n"
   ]
  },
  {
   "cell_type": "markdown",
   "metadata": {
    "id": "zBeCjKGH6eKw"
   },
   "source": [
    "Построим критическую область одностороннего критерия."
   ]
  },
  {
   "cell_type": "code",
   "execution_count": 12,
   "metadata": {
    "colab": {
     "base_uri": "https://localhost:8080/",
     "height": 431
    },
    "executionInfo": {
     "elapsed": 39,
     "status": "ok",
     "timestamp": 1674542287045,
     "user": {
      "displayName": "Nikolay Nazarov",
      "userId": "18018785782997408667"
     },
     "user_tz": -420
    },
    "id": "1oYx0S0C6eKw",
    "outputId": "b3187307-6187-458b-f863-85c1fed203f7"
   },
   "outputs": [
    {
     "data": {
      "image/png": "[encoded data removed]",
      "text/plain": [
       "<Figure size 1000x600 with 1 Axes>"
      ]
     },
     "metadata": {},
     "output_type": "display_data"
    }
   ],
   "source": [
    "sample_size = 100\n",
    "alpha = 0.05\n",
    "\n",
    "k = get_student_parameter(data_control, data_pilot)\n",
    "critical_region_bound = stats.t.ppf([1 - alpha], df=k)\n",
    "\n",
    "\n",
    "X = np.linspace(-3, 3, 1000)\n",
    "Y = stats.t.pdf(X, k)\n",
    "\n",
    "plt.plot(X, Y, label=f'St (k={k:0.0f})')\n",
    "\n",
    "mask = X > critical_region_bound\n",
    "X_ = X[mask]\n",
    "Y_upper = Y[mask]\n",
    "Y_down = np.zeros(len(Y_upper))\n",
    "plt.fill_between(\n",
    "    X_, Y_down, Y_upper,\n",
    "    color='r', alpha=0.3,\n",
    "    label='critical region'\n",
    ")\n",
    "\n",
    "plt.scatter([ttest_statistic], [0], color='k', label='t-statistic')\n",
    "\n",
    "plt.title('Распределение статистики при H0')\n",
    "plt.xlabel('t')\n",
    "plt.legend()\n",
    "plt.grid()\n",
    "plt.show()"
   ]
  },
  {
   "cell_type": "markdown",
   "metadata": {
    "id": "LezMWucBfxg3"
   },
   "source": [
    "Односторонние критерии обычно применяют в случаях, когда нас не интересует отклонение в одну из сторон."
   ]
  },
  {
   "cell_type": "markdown",
   "metadata": {
    "id": "W8c7O2KWfxg4"
   },
   "source": [
    "# 4. p-value"
   ]
  },
  {
   "cell_type": "markdown",
   "metadata": {
    "id": "vx4jziLIfxg5"
   },
   "source": [
    "p-value – вероятность наблюдать полученное или более экстремальное значение статистики при условии, что нулевая гипотеза верна. \n",
    "\n",
    "$$\n",
    "p{-}value = \\mathbb{P}(T > t | H_0)\n",
    "$$\n",
    "\n",
    "Статистический критерий можно записать как\n",
    "\n",
    "$$\n",
    "p{-}value < \\alpha \\iff отвергнуть~гипотезу\n",
    "$$"
   ]
  },
  {
   "cell_type": "code",
   "execution_count": 38,
   "metadata": {
    "colab": {
     "base_uri": "https://localhost:8080/"
    },
    "executionInfo": {
     "elapsed": 30,
     "status": "ok",
     "timestamp": 1674542287046,
     "user": {
      "displayName": "Nikolay Nazarov",
      "userId": "18018785782997408667"
     },
     "user_tz": -420
    },
    "id": "XBqhnZoWfxg6",
    "outputId": "77d63268-749f-419f-9d42-4f8ecd0c6ee2"
   },
   "outputs": [
    {
     "data": {
      "text/plain": "TtestResult(statistic=-1.4299789425732015, pvalue=0.15429911491898787, df=198.0)"
     },
     "execution_count": 38,
     "metadata": {},
     "output_type": "execute_result"
    }
   ],
   "source": [
    "x = np.random.normal(0, 1, 100)\n",
    "y = np.random.normal(0.4, 1, 100)\n",
    "stats.ttest_ind(x, y)"
   ]
  },
  {
   "cell_type": "code",
   "execution_count": 39,
   "outputs": [
    {
     "name": "stdout",
     "output_type": "stream",
     "text": [
      "H0, 0.15224440093708091 > 0.05\n"
     ]
    },
    {
     "data": {
      "text/plain": "0.15224440093708091"
     },
     "execution_count": 39,
     "metadata": {},
     "output_type": "execute_result"
    }
   ],
   "source": [
    "t_criterion(x, y, alpha=0.05)"
   ],
   "metadata": {
    "collapsed": false
   }
  },
  {
   "cell_type": "markdown",
   "metadata": {
    "id": "Ist1Z3xm6eKx"
   },
   "source": [
    "# 5. Данные пиццерии\n",
    "\n",
    "Посчитаем p-value для эксперимента с изменением дизайна сайта."
   ]
  },
  {
   "cell_type": "code",
   "execution_count": 40,
   "metadata": {
    "executionInfo": {
     "elapsed": 21,
     "status": "ok",
     "timestamp": 1674542287047,
     "user": {
      "displayName": "Nikolay Nazarov",
      "userId": "18018785782997408667"
     },
     "user_tz": -420
    },
    "id": "PQk_kVmL6eKx"
   },
   "outputs": [],
   "source": [
    "import os\n",
    "from datetime import datetime, timedelta\n",
    "import pandas as pd\n",
    "\n",
    "URL_BASE = 'https://raw.githubusercontent.com/ab-courses/simulator-ab-datasets/main/2022-04-01/'\n",
    "\n",
    "def read_database(file_name):\n",
    "    return pd.read_csv(os.path.join(URL_BASE, file_name))"
   ]
  },
  {
   "cell_type": "code",
   "execution_count": 41,
   "metadata": {
    "executionInfo": {
     "elapsed": 2335,
     "status": "ok",
     "timestamp": 1674542289362,
     "user": {
      "displayName": "Nikolay Nazarov",
      "userId": "18018785782997408667"
     },
     "user_tz": -420
    },
    "id": "WLPvVqW4FMcX"
   },
   "outputs": [],
   "source": [
    "df_sales = read_database('2022-04-01T12_df_sales.csv')\n",
    "df_sales['date'] = pd.to_datetime(df_sales['date'])\n",
    "df_users = read_database('experiment_users.csv')"
   ]
  },
  {
   "cell_type": "markdown",
   "metadata": {
    "id": "HnHLyoc_Bwwb"
   },
   "source": [
    "df_sales - информация о покупках, одна строка - один заказ. Атрибуты:\n",
    "- sale_id - идентификатор покупки;\n",
    "- date - дата покупки;\n",
    "- count_pizza - количество пицц в заказе;\n",
    "- count_drink - количество напитков в заказе;\n",
    "- price - стоимость заказа;\n",
    "- user_id - идентификатор пользователя;\n",
    "\n",
    "df_users - список пользователей эксперимента с разбивкой на группы:\n",
    "- user_id - идентификатор пользователя;\n",
    "- pilot - номер группы  пользователя;"
   ]
  },
  {
   "cell_type": "code",
   "execution_count": 42,
   "metadata": {
    "colab": {
     "base_uri": "https://localhost:8080/",
     "height": 204
    },
    "executionInfo": {
     "elapsed": 51,
     "status": "ok",
     "timestamp": 1674542289363,
     "user": {
      "displayName": "Nikolay Nazarov",
      "userId": "18018785782997408667"
     },
     "user_tz": -420
    },
    "id": "13ocytEUFeso",
    "outputId": "d0142302-7280-4cd3-cc45-b6e8ccad90f2"
   },
   "outputs": [
    {
     "data": {
      "text/plain": "  user_id  pilot\n0  0ffc65      0\n1  b962b9      0\n2  7ea63f      0\n3  7f9a61      0\n4  459e55      0",
      "text/html": "<div>\n<style scoped>\n    .dataframe tbody tr th:only-of-type {\n        vertical-align: middle;\n    }\n\n    .dataframe tbody tr th {\n        vertical-align: top;\n    }\n\n    .dataframe thead th {\n        text-align: right;\n    }\n</style>\n<table border=\"1\" class=\"dataframe\">\n  <thead>\n    <tr style=\"text-align: right;\">\n      <th></th>\n      <th>user_id</th>\n      <th>pilot</th>\n    </tr>\n  </thead>\n  <tbody>\n    <tr>\n      <th>0</th>\n      <td>0ffc65</td>\n      <td>0</td>\n    </tr>\n    <tr>\n      <th>1</th>\n      <td>b962b9</td>\n      <td>0</td>\n    </tr>\n    <tr>\n      <th>2</th>\n      <td>7ea63f</td>\n      <td>0</td>\n    </tr>\n    <tr>\n      <th>3</th>\n      <td>7f9a61</td>\n      <td>0</td>\n    </tr>\n    <tr>\n      <th>4</th>\n      <td>459e55</td>\n      <td>0</td>\n    </tr>\n  </tbody>\n</table>\n</div>"
     },
     "execution_count": 42,
     "metadata": {},
     "output_type": "execute_result"
    }
   ],
   "source": [
    "df_users.head()"
   ]
  },
  {
   "cell_type": "code",
   "execution_count": 43,
   "metadata": {
    "colab": {
     "base_uri": "https://localhost:8080/"
    },
    "executionInfo": {
     "elapsed": 49,
     "status": "ok",
     "timestamp": 1674542289365,
     "user": {
      "displayName": "Nikolay Nazarov",
      "userId": "18018785782997408667"
     },
     "user_tz": -420
    },
    "id": "LeBzOkl4FgiJ",
    "outputId": "b0295aff-95c3-4c55-87ac-f0307b02c709"
   },
   "outputs": [
    {
     "data": {
      "text/plain": "pilot\n0    11769\n1    11564\nName: count, dtype: int64"
     },
     "execution_count": 43,
     "metadata": {},
     "output_type": "execute_result"
    }
   ],
   "source": [
    "# количество пользователей в группах\n",
    "df_users['pilot'].value_counts()"
   ]
  },
  {
   "cell_type": "code",
   "execution_count": 46,
   "metadata": {
    "executionInfo": {
     "elapsed": 41,
     "status": "ok",
     "timestamp": 1674542289366,
     "user": {
      "displayName": "Nikolay Nazarov",
      "userId": "18018785782997408667"
     },
     "user_tz": -420
    },
    "id": "B8mG7cBbF5_m"
   },
   "outputs": [],
   "source": [
    "# считаем значения метрики\n",
    "begin_date = datetime(2022, 3, 23)\n",
    "end_date = datetime(2022, 3, 30)\n",
    "df_metrics = (\n",
    "    df_sales\n",
    "    [(df_sales['date'] >= begin_date) & (df_sales['date'] < end_date)]\n",
    "    .groupby('user_id')[['price']].sum()\n",
    "    .reset_index()  \n",
    ")"
   ]
  },
  {
   "cell_type": "code",
   "execution_count": 47,
   "metadata": {
    "colab": {
     "base_uri": "https://localhost:8080/",
     "height": 204
    },
    "executionInfo": {
     "elapsed": 40,
     "status": "ok",
     "timestamp": 1674542289368,
     "user": {
      "displayName": "Nikolay Nazarov",
      "userId": "18018785782997408667"
     },
     "user_tz": -420
    },
    "id": "fb9YdTfhGflr",
    "outputId": "3a7e0997-4d7a-4634-a1f0-bd78540aa4cd",
    "scrolled": true
   },
   "outputs": [
    {
     "data": {
      "text/plain": "  user_id  price\n0  0000d4    720\n1  0000de    660\n2  0000e4    840\n3  0001e2   2430\n4  0001ff    720",
      "text/html": "<div>\n<style scoped>\n    .dataframe tbody tr th:only-of-type {\n        vertical-align: middle;\n    }\n\n    .dataframe tbody tr th {\n        vertical-align: top;\n    }\n\n    .dataframe thead th {\n        text-align: right;\n    }\n</style>\n<table border=\"1\" class=\"dataframe\">\n  <thead>\n    <tr style=\"text-align: right;\">\n      <th></th>\n      <th>user_id</th>\n      <th>price</th>\n    </tr>\n  </thead>\n  <tbody>\n    <tr>\n      <th>0</th>\n      <td>0000d4</td>\n      <td>720</td>\n    </tr>\n    <tr>\n      <th>1</th>\n      <td>0000de</td>\n      <td>660</td>\n    </tr>\n    <tr>\n      <th>2</th>\n      <td>0000e4</td>\n      <td>840</td>\n    </tr>\n    <tr>\n      <th>3</th>\n      <td>0001e2</td>\n      <td>2430</td>\n    </tr>\n    <tr>\n      <th>4</th>\n      <td>0001ff</td>\n      <td>720</td>\n    </tr>\n  </tbody>\n</table>\n</div>"
     },
     "execution_count": 47,
     "metadata": {},
     "output_type": "execute_result"
    }
   ],
   "source": [
    "df_metrics.head()"
   ]
  },
  {
   "cell_type": "code",
   "execution_count": 48,
   "metadata": {
    "executionInfo": {
     "elapsed": 39,
     "status": "ok",
     "timestamp": 1674542289369,
     "user": {
      "displayName": "Nikolay Nazarov",
      "userId": "18018785782997408667"
     },
     "user_tz": -420
    },
    "id": "4UBIFWwfFyxF"
   },
   "outputs": [],
   "source": [
    "df = pd.merge(df_users, df_metrics, on='user_id', how='left').fillna(0)"
   ]
  },
  {
   "cell_type": "code",
   "execution_count": 50,
   "metadata": {
    "colab": {
     "base_uri": "https://localhost:8080/",
     "height": 204
    },
    "executionInfo": {
     "elapsed": 38,
     "status": "ok",
     "timestamp": 1674542289370,
     "user": {
      "displayName": "Nikolay Nazarov",
      "userId": "18018785782997408667"
     },
     "user_tz": -420
    },
    "id": "RecvRF36GpNr",
    "outputId": "c83b5347-625e-429f-ec2c-9184b4a649f0"
   },
   "outputs": [
    {
     "data": {
      "text/plain": "  user_id  pilot  price\n0  0ffc65      0    0.0\n1  b962b9      0  840.0\n2  7ea63f      0    0.0\n3  7f9a61      0    0.0\n4  459e55      0    0.0",
      "text/html": "<div>\n<style scoped>\n    .dataframe tbody tr th:only-of-type {\n        vertical-align: middle;\n    }\n\n    .dataframe tbody tr th {\n        vertical-align: top;\n    }\n\n    .dataframe thead th {\n        text-align: right;\n    }\n</style>\n<table border=\"1\" class=\"dataframe\">\n  <thead>\n    <tr style=\"text-align: right;\">\n      <th></th>\n      <th>user_id</th>\n      <th>pilot</th>\n      <th>price</th>\n    </tr>\n  </thead>\n  <tbody>\n    <tr>\n      <th>0</th>\n      <td>0ffc65</td>\n      <td>0</td>\n      <td>0.0</td>\n    </tr>\n    <tr>\n      <th>1</th>\n      <td>b962b9</td>\n      <td>0</td>\n      <td>840.0</td>\n    </tr>\n    <tr>\n      <th>2</th>\n      <td>7ea63f</td>\n      <td>0</td>\n      <td>0.0</td>\n    </tr>\n    <tr>\n      <th>3</th>\n      <td>7f9a61</td>\n      <td>0</td>\n      <td>0.0</td>\n    </tr>\n    <tr>\n      <th>4</th>\n      <td>459e55</td>\n      <td>0</td>\n      <td>0.0</td>\n    </tr>\n  </tbody>\n</table>\n</div>"
     },
     "execution_count": 50,
     "metadata": {},
     "output_type": "execute_result"
    }
   ],
   "source": [
    "df.head()"
   ]
  },
  {
   "cell_type": "markdown",
   "source": [
    "H0: За неделю суммарная средняя стоимость покупок юзеров в пилотной группе принадлежит той же генеральной совокупности, что и в контрольной"
   ],
   "metadata": {
    "collapsed": false
   }
  },
  {
   "cell_type": "code",
   "execution_count": 54,
   "metadata": {
    "colab": {
     "base_uri": "https://localhost:8080/"
    },
    "executionInfo": {
     "elapsed": 38,
     "status": "ok",
     "timestamp": 1674542289372,
     "user": {
      "displayName": "Nikolay Nazarov",
      "userId": "18018785782997408667"
     },
     "user_tz": -420
    },
    "id": "9RQzYxw-FrBU",
    "outputId": "0f79e47f-be23-4f03-99cf-3258ae53deee"
   },
   "outputs": [
    {
     "data": {
      "text/plain": "TtestResult(statistic=-7.800743549967138, pvalue=6.411291718224787e-15, df=23331.0)"
     },
     "execution_count": 54,
     "metadata": {},
     "output_type": "execute_result"
    }
   ],
   "source": [
    "data_control = df[df['pilot'] == 0]['price']\n",
    "data_pilot = df[df['pilot'] == 1]['price']\n",
    "# t_criterion(data_control, data_pilot, alpha=0.05)\n",
    "stats.ttest_ind(data_control, data_pilot)"
   ]
  },
  {
   "cell_type": "markdown",
   "metadata": {
    "id": "VIEZsM4SHPFS"
   },
   "source": [
    "Получили близкое к нулю p-value, как и на платформе.\n",
    "\n",
    "**Вывод:** \n",
    "- На уровне значимости 0.05 гипотеза о равенстве средних отклоняется\n",
    "- Изменение статистически значимо"
   ]
  },
  {
   "cell_type": "markdown",
   "source": [
    "Теперь стоит спросить себя, не упали ли другие метрики и насколько результат совпадает с ожидаемым, возможно стоит провести другие исследования"
   ],
   "metadata": {
    "collapsed": false
   }
  },
  {
   "cell_type": "markdown",
   "metadata": {},
   "source": []
  },
  {
   "cell_type": "markdown",
   "metadata": {},
   "source": []
  },
  {
   "cell_type": "markdown",
   "metadata": {},
   "source": [
    "### Задача 1. Отличия до эксперимента\n",
    "Возьмите те же группы, что и в эксперименте с изменением дизайна сайта, и проверьте значимость отличий средней выручки с пользователя на неделе перед экспериментом (c 2022.03.16 по 2022.03.23).\n",
    "\n",
    "Для решения используйте данные из файлов `2022-04-01T12_df_sales.csv` и `experiment_users.csv`.\n",
    "\n",
    "В качестве ответа введите p-value, округлённое до 3-го знака после точки."
   ]
  },
  {
   "cell_type": "markdown",
   "source": [
    "AA-тест"
   ],
   "metadata": {
    "collapsed": false
   }
  },
  {
   "cell_type": "code",
   "execution_count": 13,
   "metadata": {},
   "outputs": [],
   "source": [
    "import os\n",
    "from datetime import datetime\n",
    "import pandas as pd\n",
    "from scipy import stats"
   ]
  },
  {
   "cell_type": "code",
   "execution_count": 55,
   "metadata": {},
   "outputs": [],
   "source": [
    "URL_BASE = 'https://raw.githubusercontent.com/ab-courses/simulator-ab-datasets/main/2022-04-01/'\n",
    "\n",
    "def read_database(file_name):\n",
    "    return pd.read_csv(os.path.join(URL_BASE, file_name))"
   ]
  },
  {
   "cell_type": "code",
   "execution_count": 56,
   "metadata": {},
   "outputs": [
    {
     "data": {
      "text/plain": "   sale_id                date  count_pizza  count_drink  price user_id\n0  1000001 2022-02-04 10:00:24            1            0    720  1c1543\n1  1000002 2022-02-04 10:02:28            1            1    930  a9a6e8\n2  1000003 2022-02-04 10:02:35            3            1   1980  23420a\n3  1000004 2022-02-04 10:03:06            1            1    750  3e8ed5\n4  1000005 2022-02-04 10:03:23            1            1    870  cbc468",
      "text/html": "<div>\n<style scoped>\n    .dataframe tbody tr th:only-of-type {\n        vertical-align: middle;\n    }\n\n    .dataframe tbody tr th {\n        vertical-align: top;\n    }\n\n    .dataframe thead th {\n        text-align: right;\n    }\n</style>\n<table border=\"1\" class=\"dataframe\">\n  <thead>\n    <tr style=\"text-align: right;\">\n      <th></th>\n      <th>sale_id</th>\n      <th>date</th>\n      <th>count_pizza</th>\n      <th>count_drink</th>\n      <th>price</th>\n      <th>user_id</th>\n    </tr>\n  </thead>\n  <tbody>\n    <tr>\n      <th>0</th>\n      <td>1000001</td>\n      <td>2022-02-04 10:00:24</td>\n      <td>1</td>\n      <td>0</td>\n      <td>720</td>\n      <td>1c1543</td>\n    </tr>\n    <tr>\n      <th>1</th>\n      <td>1000002</td>\n      <td>2022-02-04 10:02:28</td>\n      <td>1</td>\n      <td>1</td>\n      <td>930</td>\n      <td>a9a6e8</td>\n    </tr>\n    <tr>\n      <th>2</th>\n      <td>1000003</td>\n      <td>2022-02-04 10:02:35</td>\n      <td>3</td>\n      <td>1</td>\n      <td>1980</td>\n      <td>23420a</td>\n    </tr>\n    <tr>\n      <th>3</th>\n      <td>1000004</td>\n      <td>2022-02-04 10:03:06</td>\n      <td>1</td>\n      <td>1</td>\n      <td>750</td>\n      <td>3e8ed5</td>\n    </tr>\n    <tr>\n      <th>4</th>\n      <td>1000005</td>\n      <td>2022-02-04 10:03:23</td>\n      <td>1</td>\n      <td>1</td>\n      <td>870</td>\n      <td>cbc468</td>\n    </tr>\n  </tbody>\n</table>\n</div>"
     },
     "execution_count": 56,
     "metadata": {},
     "output_type": "execute_result"
    }
   ],
   "source": [
    "df_sales = read_database('2022-04-01T12_df_sales.csv')\n",
    "df_sales['date'] = pd.to_datetime(df_sales['date'])\n",
    "df_sales.head()"
   ]
  },
  {
   "cell_type": "markdown",
   "metadata": {},
   "source": [
    "df_sales - информация о покупках, одна строка - один заказ. Атрибуты:\n",
    "- sale_id - идентификатор покупки;\n",
    "- date - дата покупки;\n",
    "- count_pizza - количество пицц в заказе;\n",
    "- count_drink - количество напитков в заказе;\n",
    "- price - стоимость заказа;\n",
    "- user_id - идентификатор пользователя;"
   ]
  },
  {
   "cell_type": "code",
   "execution_count": 57,
   "metadata": {},
   "outputs": [
    {
     "data": {
      "text/plain": "  user_id  pilot\n0  0ffc65      0\n1  b962b9      0\n2  7ea63f      0\n3  7f9a61      0\n4  459e55      0",
      "text/html": "<div>\n<style scoped>\n    .dataframe tbody tr th:only-of-type {\n        vertical-align: middle;\n    }\n\n    .dataframe tbody tr th {\n        vertical-align: top;\n    }\n\n    .dataframe thead th {\n        text-align: right;\n    }\n</style>\n<table border=\"1\" class=\"dataframe\">\n  <thead>\n    <tr style=\"text-align: right;\">\n      <th></th>\n      <th>user_id</th>\n      <th>pilot</th>\n    </tr>\n  </thead>\n  <tbody>\n    <tr>\n      <th>0</th>\n      <td>0ffc65</td>\n      <td>0</td>\n    </tr>\n    <tr>\n      <th>1</th>\n      <td>b962b9</td>\n      <td>0</td>\n    </tr>\n    <tr>\n      <th>2</th>\n      <td>7ea63f</td>\n      <td>0</td>\n    </tr>\n    <tr>\n      <th>3</th>\n      <td>7f9a61</td>\n      <td>0</td>\n    </tr>\n    <tr>\n      <th>4</th>\n      <td>459e55</td>\n      <td>0</td>\n    </tr>\n  </tbody>\n</table>\n</div>"
     },
     "execution_count": 57,
     "metadata": {},
     "output_type": "execute_result"
    }
   ],
   "source": [
    "df_users = read_database('experiment_users.csv')\n",
    "df_users.head()"
   ]
  },
  {
   "cell_type": "markdown",
   "metadata": {},
   "source": [
    "df_users - список пользователей эксперимента с разбивкой на группы:\n",
    "- user_id - идентификатор пользователя;\n",
    "- pilot - номер группы  пользователя;"
   ]
  },
  {
   "cell_type": "code",
   "execution_count": 58,
   "metadata": {},
   "outputs": [
    {
     "data": {
      "text/plain": "  user_id  price\n0  000096    720\n1  00092c    780\n2  000bb2    720\n3  000ea9   1560\n4  000ec6    690",
      "text/html": "<div>\n<style scoped>\n    .dataframe tbody tr th:only-of-type {\n        vertical-align: middle;\n    }\n\n    .dataframe tbody tr th {\n        vertical-align: top;\n    }\n\n    .dataframe thead th {\n        text-align: right;\n    }\n</style>\n<table border=\"1\" class=\"dataframe\">\n  <thead>\n    <tr style=\"text-align: right;\">\n      <th></th>\n      <th>user_id</th>\n      <th>price</th>\n    </tr>\n  </thead>\n  <tbody>\n    <tr>\n      <th>0</th>\n      <td>000096</td>\n      <td>720</td>\n    </tr>\n    <tr>\n      <th>1</th>\n      <td>00092c</td>\n      <td>780</td>\n    </tr>\n    <tr>\n      <th>2</th>\n      <td>000bb2</td>\n      <td>720</td>\n    </tr>\n    <tr>\n      <th>3</th>\n      <td>000ea9</td>\n      <td>1560</td>\n    </tr>\n    <tr>\n      <th>4</th>\n      <td>000ec6</td>\n      <td>690</td>\n    </tr>\n  </tbody>\n</table>\n</div>"
     },
     "execution_count": 58,
     "metadata": {},
     "output_type": "execute_result"
    }
   ],
   "source": [
    "# считаем среднюю выручку с пользователя на неделе\n",
    "begin_date = datetime(2022, 3, 16)\n",
    "end_date = datetime(2022, 3, 23)\n",
    "df_metrics = (\n",
    "    df_sales\n",
    "    [(df_sales['date'] >= begin_date) & (df_sales['date'] < end_date)]\n",
    "    .groupby('user_id')[['price']].sum()\n",
    "    .reset_index()  \n",
    ")\n",
    "df_metrics.head()"
   ]
  },
  {
   "cell_type": "code",
   "execution_count": 59,
   "metadata": {},
   "outputs": [
    {
     "data": {
      "text/plain": "  user_id  pilot   price\n0  0ffc65      0     0.0\n1  b962b9      0     0.0\n2  7ea63f      0     0.0\n3  7f9a61      0     0.0\n4  459e55      0  2160.0",
      "text/html": "<div>\n<style scoped>\n    .dataframe tbody tr th:only-of-type {\n        vertical-align: middle;\n    }\n\n    .dataframe tbody tr th {\n        vertical-align: top;\n    }\n\n    .dataframe thead th {\n        text-align: right;\n    }\n</style>\n<table border=\"1\" class=\"dataframe\">\n  <thead>\n    <tr style=\"text-align: right;\">\n      <th></th>\n      <th>user_id</th>\n      <th>pilot</th>\n      <th>price</th>\n    </tr>\n  </thead>\n  <tbody>\n    <tr>\n      <th>0</th>\n      <td>0ffc65</td>\n      <td>0</td>\n      <td>0.0</td>\n    </tr>\n    <tr>\n      <th>1</th>\n      <td>b962b9</td>\n      <td>0</td>\n      <td>0.0</td>\n    </tr>\n    <tr>\n      <th>2</th>\n      <td>7ea63f</td>\n      <td>0</td>\n      <td>0.0</td>\n    </tr>\n    <tr>\n      <th>3</th>\n      <td>7f9a61</td>\n      <td>0</td>\n      <td>0.0</td>\n    </tr>\n    <tr>\n      <th>4</th>\n      <td>459e55</td>\n      <td>0</td>\n      <td>2160.0</td>\n    </tr>\n  </tbody>\n</table>\n</div>"
     },
     "execution_count": 59,
     "metadata": {},
     "output_type": "execute_result"
    }
   ],
   "source": [
    "# соединяем 2 датафрейма - данные по покупкам и данные по эксперименту\n",
    "df = pd.merge(df_users, df_metrics, on='user_id', how='left').fillna(0)\n",
    "df.head()"
   ]
  },
  {
   "cell_type": "code",
   "execution_count": 60,
   "metadata": {},
   "outputs": [
    {
     "name": "stdout",
     "output_type": "stream",
     "text": [
      "pvalue = 0.199\n"
     ]
    }
   ],
   "source": [
    "# фильтруем пользователей по группа и проводим t-тест\n",
    "data_control = df[df['pilot'] == 0]['price']\n",
    "data_pilot = df[df['pilot'] == 1]['price']\n",
    "pvalue = stats.ttest_ind(data_control, data_pilot).pvalue\n",
    "print(f'pvalue = {pvalue:0.3f}')"
   ]
  },
  {
   "cell_type": "markdown",
   "source": [
    "Ну сами по себе группы статистически не различаются, и на том спасбо"
   ],
   "metadata": {
    "collapsed": false
   }
  },
  {
   "cell_type": "markdown",
   "metadata": {},
   "source": []
  },
  {
   "cell_type": "markdown",
   "metadata": {},
   "source": [
    "### Задача 2. Среднее время между покупками\n",
    "При выполнении прошлого задания вы могли заметить, что в данных много нулей. Это значит, что большая часть пользователей, совершивших покупку во время эксперимента, не совершала покупок на неделе до эксперимента. Интересно, как часто наши клиенты делают покупки?\n",
    "\n",
    "Оцените среднее время между покупками. Возьмите всех клиентов, у которых 2 и более покупок. \\\n",
    "Вычислите время между покупками (для клиента с N покупками должно получиться N-1 значения времени). \\\n",
    "Объедините значения всех клиентов и вычислите среднее.\n",
    "\n",
    "Для решения используйте данные из файлов `2022-04-01T12_df_sales.csv`.\n",
    "\n",
    "В качестве ответа введите среднее количество дней между покупками, округлённое до целого значения."
   ]
  },
  {
   "cell_type": "code",
   "execution_count": 31,
   "metadata": {},
   "outputs": [],
   "source": [
    "URL_BASE = 'https://raw.githubusercontent.com/ab-courses/simulator-ab-datasets/main/2022-04-01/'\n",
    "\n",
    "def read_database(file_name):\n",
    "    return pd.read_csv(os.path.join(URL_BASE, file_name))"
   ]
  },
  {
   "cell_type": "code",
   "execution_count": 32,
   "metadata": {},
   "outputs": [
    {
     "data": {
      "text/html": [
       "<div>\n",
       "<style scoped>\n",
       "    .dataframe tbody tr th:only-of-type {\n",
       "        vertical-align: middle;\n",
       "    }\n",
       "\n",
       "    .dataframe tbody tr th {\n",
       "        vertical-align: top;\n",
       "    }\n",
       "\n",
       "    .dataframe thead th {\n",
       "        text-align: right;\n",
       "    }\n",
       "</style>\n",
       "<table border=\"1\" class=\"dataframe\">\n",
       "  <thead>\n",
       "    <tr style=\"text-align: right;\">\n",
       "      <th></th>\n",
       "      <th>sale_id</th>\n",
       "      <th>date</th>\n",
       "      <th>count_pizza</th>\n",
       "      <th>count_drink</th>\n",
       "      <th>price</th>\n",
       "      <th>user_id</th>\n",
       "    </tr>\n",
       "  </thead>\n",
       "  <tbody>\n",
       "    <tr>\n",
       "      <th>0</th>\n",
       "      <td>1000001</td>\n",
       "      <td>2022-02-04 10:00:24</td>\n",
       "      <td>1</td>\n",
       "      <td>0</td>\n",
       "      <td>720</td>\n",
       "      <td>1c1543</td>\n",
       "    </tr>\n",
       "    <tr>\n",
       "      <th>1</th>\n",
       "      <td>1000002</td>\n",
       "      <td>2022-02-04 10:02:28</td>\n",
       "      <td>1</td>\n",
       "      <td>1</td>\n",
       "      <td>930</td>\n",
       "      <td>a9a6e8</td>\n",
       "    </tr>\n",
       "    <tr>\n",
       "      <th>2</th>\n",
       "      <td>1000003</td>\n",
       "      <td>2022-02-04 10:02:35</td>\n",
       "      <td>3</td>\n",
       "      <td>1</td>\n",
       "      <td>1980</td>\n",
       "      <td>23420a</td>\n",
       "    </tr>\n",
       "    <tr>\n",
       "      <th>3</th>\n",
       "      <td>1000004</td>\n",
       "      <td>2022-02-04 10:03:06</td>\n",
       "      <td>1</td>\n",
       "      <td>1</td>\n",
       "      <td>750</td>\n",
       "      <td>3e8ed5</td>\n",
       "    </tr>\n",
       "    <tr>\n",
       "      <th>4</th>\n",
       "      <td>1000005</td>\n",
       "      <td>2022-02-04 10:03:23</td>\n",
       "      <td>1</td>\n",
       "      <td>1</td>\n",
       "      <td>870</td>\n",
       "      <td>cbc468</td>\n",
       "    </tr>\n",
       "  </tbody>\n",
       "</table>\n",
       "</div>"
      ],
      "text/plain": [
       "   sale_id                date  count_pizza  count_drink  price user_id\n",
       "0  1000001 2022-02-04 10:00:24            1            0    720  1c1543\n",
       "1  1000002 2022-02-04 10:02:28            1            1    930  a9a6e8\n",
       "2  1000003 2022-02-04 10:02:35            3            1   1980  23420a\n",
       "3  1000004 2022-02-04 10:03:06            1            1    750  3e8ed5\n",
       "4  1000005 2022-02-04 10:03:23            1            1    870  cbc468"
      ]
     },
     "execution_count": 32,
     "metadata": {},
     "output_type": "execute_result"
    }
   ],
   "source": [
    "df_sales = read_database('2022-04-01T12_df_sales.csv')\n",
    "df_sales['date'] = pd.to_datetime(df_sales['date'])\n",
    "df_sales.head()"
   ]
  },
  {
   "cell_type": "code",
   "execution_count": 45,
   "metadata": {},
   "outputs": [
    {
     "data": {
      "text/html": [
       "<div>\n",
       "<style scoped>\n",
       "    .dataframe tbody tr th:only-of-type {\n",
       "        vertical-align: middle;\n",
       "    }\n",
       "\n",
       "    .dataframe tbody tr th {\n",
       "        vertical-align: top;\n",
       "    }\n",
       "\n",
       "    .dataframe thead th {\n",
       "        text-align: right;\n",
       "    }\n",
       "</style>\n",
       "<table border=\"1\" class=\"dataframe\">\n",
       "  <thead>\n",
       "    <tr style=\"text-align: right;\">\n",
       "      <th></th>\n",
       "      <th>user_id</th>\n",
       "      <th>count</th>\n",
       "      <th>min</th>\n",
       "      <th>max</th>\n",
       "    </tr>\n",
       "  </thead>\n",
       "  <tbody>\n",
       "    <tr>\n",
       "      <th>0</th>\n",
       "      <td>000096</td>\n",
       "      <td>2</td>\n",
       "      <td>2022-03-04 11:15:55</td>\n",
       "      <td>2022-03-22 13:16:09</td>\n",
       "    </tr>\n",
       "    <tr>\n",
       "      <th>1</th>\n",
       "      <td>0000d4</td>\n",
       "      <td>2</td>\n",
       "      <td>2022-02-28 16:32:09</td>\n",
       "      <td>2022-03-27 11:26:30</td>\n",
       "    </tr>\n",
       "    <tr>\n",
       "      <th>2</th>\n",
       "      <td>0000de</td>\n",
       "      <td>3</td>\n",
       "      <td>2022-02-11 18:57:15</td>\n",
       "      <td>2022-03-25 17:01:47</td>\n",
       "    </tr>\n",
       "    <tr>\n",
       "      <th>3</th>\n",
       "      <td>0000e4</td>\n",
       "      <td>2</td>\n",
       "      <td>2022-02-28 12:41:47</td>\n",
       "      <td>2022-03-27 14:54:35</td>\n",
       "    </tr>\n",
       "    <tr>\n",
       "      <th>4</th>\n",
       "      <td>000112</td>\n",
       "      <td>1</td>\n",
       "      <td>2022-02-06 14:38:30</td>\n",
       "      <td>2022-02-06 14:38:30</td>\n",
       "    </tr>\n",
       "  </tbody>\n",
       "</table>\n",
       "</div>"
      ],
      "text/plain": [
       "  user_id  count                 min                 max\n",
       "0  000096      2 2022-03-04 11:15:55 2022-03-22 13:16:09\n",
       "1  0000d4      2 2022-02-28 16:32:09 2022-03-27 11:26:30\n",
       "2  0000de      3 2022-02-11 18:57:15 2022-03-25 17:01:47\n",
       "3  0000e4      2 2022-02-28 12:41:47 2022-03-27 14:54:35\n",
       "4  000112      1 2022-02-06 14:38:30 2022-02-06 14:38:30"
      ]
     },
     "execution_count": 45,
     "metadata": {},
     "output_type": "execute_result"
    }
   ],
   "source": [
    "# для каждого пользователя считаем количество покупок, дату первой и последней покупки\n",
    "df = df_sales.groupby('user_id')[['date']].agg(['count', 'min', 'max']) \n",
    "df.columns = [x[1] for x in df.columns] \n",
    "df = df.reset_index() \n",
    "df.head()  "
   ]
  },
  {
   "cell_type": "code",
   "execution_count": 50,
   "metadata": {},
   "outputs": [
    {
     "data": {
      "text/plain": [
       "array([2, 3, 4, 5, 6, 7, 8, 9])"
      ]
     },
     "execution_count": 50,
     "metadata": {},
     "output_type": "execute_result"
    }
   ],
   "source": [
    "# оставляем пользователей с 2 и более покупок\n",
    "df = df[df['count'] >= 2]\n",
    "df['count'].unique()"
   ]
  },
  {
   "cell_type": "code",
   "execution_count": 52,
   "metadata": {},
   "outputs": [
    {
     "data": {
      "text/html": [
       "<div>\n",
       "<style scoped>\n",
       "    .dataframe tbody tr th:only-of-type {\n",
       "        vertical-align: middle;\n",
       "    }\n",
       "\n",
       "    .dataframe tbody tr th {\n",
       "        vertical-align: top;\n",
       "    }\n",
       "\n",
       "    .dataframe thead th {\n",
       "        text-align: right;\n",
       "    }\n",
       "</style>\n",
       "<table border=\"1\" class=\"dataframe\">\n",
       "  <thead>\n",
       "    <tr style=\"text-align: right;\">\n",
       "      <th></th>\n",
       "      <th>user_id</th>\n",
       "      <th>count</th>\n",
       "      <th>min</th>\n",
       "      <th>max</th>\n",
       "      <th>delta</th>\n",
       "    </tr>\n",
       "  </thead>\n",
       "  <tbody>\n",
       "    <tr>\n",
       "      <th>0</th>\n",
       "      <td>000096</td>\n",
       "      <td>2</td>\n",
       "      <td>2022-03-04 11:15:55</td>\n",
       "      <td>2022-03-22 13:16:09</td>\n",
       "      <td>1562414.0</td>\n",
       "    </tr>\n",
       "    <tr>\n",
       "      <th>1</th>\n",
       "      <td>0000d4</td>\n",
       "      <td>2</td>\n",
       "      <td>2022-02-28 16:32:09</td>\n",
       "      <td>2022-03-27 11:26:30</td>\n",
       "      <td>2314461.0</td>\n",
       "    </tr>\n",
       "    <tr>\n",
       "      <th>2</th>\n",
       "      <td>0000de</td>\n",
       "      <td>3</td>\n",
       "      <td>2022-02-11 18:57:15</td>\n",
       "      <td>2022-03-25 17:01:47</td>\n",
       "      <td>3621872.0</td>\n",
       "    </tr>\n",
       "    <tr>\n",
       "      <th>3</th>\n",
       "      <td>0000e4</td>\n",
       "      <td>2</td>\n",
       "      <td>2022-02-28 12:41:47</td>\n",
       "      <td>2022-03-27 14:54:35</td>\n",
       "      <td>2340768.0</td>\n",
       "    </tr>\n",
       "    <tr>\n",
       "      <th>6</th>\n",
       "      <td>0001e2</td>\n",
       "      <td>2</td>\n",
       "      <td>2022-03-25 11:01:07</td>\n",
       "      <td>2022-03-27 16:54:00</td>\n",
       "      <td>193973.0</td>\n",
       "    </tr>\n",
       "  </tbody>\n",
       "</table>\n",
       "</div>"
      ],
      "text/plain": [
       "  user_id  count                 min                 max      delta\n",
       "0  000096      2 2022-03-04 11:15:55 2022-03-22 13:16:09  1562414.0\n",
       "1  0000d4      2 2022-02-28 16:32:09 2022-03-27 11:26:30  2314461.0\n",
       "2  0000de      3 2022-02-11 18:57:15 2022-03-25 17:01:47  3621872.0\n",
       "3  0000e4      2 2022-02-28 12:41:47 2022-03-27 14:54:35  2340768.0\n",
       "6  0001e2      2 2022-03-25 11:01:07 2022-03-27 16:54:00   193973.0"
      ]
     },
     "execution_count": 52,
     "metadata": {},
     "output_type": "execute_result"
    }
   ],
   "source": [
    "# количество секунд между первой и последней покупкой\n",
    "df['delta'] = (df['max'] - df['min']).dt.total_seconds()\n",
    "df.head()"
   ]
  },
  {
   "cell_type": "code",
   "execution_count": 54,
   "metadata": {},
   "outputs": [
    {
     "data": {
      "text/plain": [
       "155716119115.0"
      ]
     },
     "execution_count": 54,
     "metadata": {},
     "output_type": "execute_result"
    }
   ],
   "source": [
    "# суммарное время между покупками\n",
    "sum_delta = df['delta'].sum()\n",
    "sum_delta"
   ]
  },
  {
   "cell_type": "code",
   "execution_count": 55,
   "metadata": {},
   "outputs": [
    {
     "data": {
      "text/plain": [
       "104069"
      ]
     },
     "execution_count": 55,
     "metadata": {},
     "output_type": "execute_result"
    }
   ],
   "source": [
    "# суммарное количество периодов между покупками\n",
    "count_periods = df['count'].sum() - len(df)\n",
    "count_periods"
   ]
  },
  {
   "cell_type": "code",
   "execution_count": 56,
   "metadata": {},
   "outputs": [
    {
     "name": "stdout",
     "output_type": "stream",
     "text": [
      "answer: 17\n"
     ]
    }
   ],
   "source": [
    "# среднее = суммарное время / количество периодов\n",
    "answer = sum_delta / count_periods / 3600 / 24\n",
    "print('answer:', int(round(answer)))"
   ]
  }
 ],
 "metadata": {
  "colab": {
   "provenance": []
  },
  "kernelspec": {
   "display_name": "Python 3 (ipykernel)",
   "language": "python",
   "name": "python3"
  },
  "language_info": {
   "codemirror_mode": {
    "name": "ipython",
    "version": 3
   },
   "file_extension": ".py",
   "mimetype": "text/x-python",
   "name": "python",
   "nbconvert_exporter": "python",
   "pygments_lexer": "ipython3",
   "version": "3.9.13"
  }
 },
 "nbformat": 4,
 "nbformat_minor": 1
}
