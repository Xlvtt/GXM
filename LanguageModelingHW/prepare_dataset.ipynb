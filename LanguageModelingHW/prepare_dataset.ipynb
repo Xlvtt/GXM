{
 "cells": [
  {
   "cell_type": "markdown",
   "source": [
    "Парсим телеграмм каналы с анекдотами и собираем датасет.\n",
    "Также имеется готовый датасет из 120 тысяч анекдотов jokes.txt"
   ],
   "metadata": {
    "collapsed": false
   }
  },
  {
   "cell_type": "code",
   "execution_count": null,
   "metadata": {
    "collapsed": true,
    "pycharm": {
     "is_executing": true
    }
   },
   "outputs": [],
   "source": [
    "with open(\"jokes.txt\") as file:\n",
    "    initial_dataset = file.readlines()\n",
    "initial_dataset[:5], len(initial_dataset)"
   ]
  },
  {
   "cell_type": "code",
   "execution_count": 4,
   "outputs": [
    {
     "data": {
      "text/plain": "(['Почему гея уволили из банка спермы?  Он выпивал на работе.\\n',\n  'Два суицидника решили купить пистолет, один другому говорит:\"пистолет это дорого, давай скинемся\"\\n',\n  'На пустыре бандитская стрелка: все заставлено джипами. К ним подруливает милицейская машина, из которой выходит милиционер:  - Так, что здесь происходит?!  В ответ стоящий рядом бандит сует ему 100 баксов и говорит:  - А теперь вали отсюда!  Мент возвращается в машину и приговаривает:   - Ох, все секреты у них, секреты...\\n',\n  'Еврей дачу застраховал, полис получил, смотрит недоверчиво на агента: - И что, ви хотите сказать, что я получу столько денег, если сгорит моя дача? - Да, но только если вы её не сами подожжёте. - Я таки знал, что тут какой-то подвох\\n',\n  'Однажды водолаз наслаждался красотами подводного мира океана на глубине 10 метров. Вдруг он увидел мужика, который плавал на той же глубине, что и он, только без водолазного костюма.  Водолаз опустился еще на 5 метров, оглянулся - мужик опять рядом.  Водолаз опустился еще на 10 метров, но мужик без скафандра следовал по пятам, не отставая.  Совершенно обалдевший от такого смелого ныряльщика, водолаз достал водонепроницаемую доску и специальным подводным грифелем написал на ней: \"Мужик, ты чего, на 25 метров без скафандра?\"  Мужик взял у водолаза доску и грифель, и написал ответ:  \"Я тону ебать\"\\n'],\n 53576)"
     },
     "execution_count": 4,
     "metadata": {},
     "output_type": "execute_result"
    }
   ],
   "source": [
    "with open(\"parsed_jokes.txt\") as file:\n",
    "    parsed_dataset = file.readlines()\n",
    "parsed_dataset[:5], len(parsed_dataset)"
   ],
   "metadata": {
    "collapsed": false
   }
  },
  {
   "cell_type": "code",
   "execution_count": 5,
   "outputs": [],
   "source": [
    "with open(\"mega_jokes_dataset.txt\", \"w\") as file:\n",
    "    file.writelines(initial_dataset + parsed_dataset)"
   ],
   "metadata": {
    "collapsed": false
   }
  },
  {
   "cell_type": "code",
   "execution_count": 6,
   "outputs": [
    {
     "name": "stdout",
     "output_type": "stream",
     "text": [
      "174334\n"
     ]
    }
   ],
   "source": [
    "with open(\"mega_jokes_dataset.txt\") as file:\n",
    "    print(len(file.readlines()))"
   ],
   "metadata": {
    "collapsed": false
   }
  }
 ],
 "metadata": {
  "kernelspec": {
   "display_name": "Python 3",
   "language": "python",
   "name": "python3"
  },
  "language_info": {
   "codemirror_mode": {
    "name": "ipython",
    "version": 2
   },
   "file_extension": ".py",
   "mimetype": "text/x-python",
   "name": "python",
   "nbconvert_exporter": "python",
   "pygments_lexer": "ipython2",
   "version": "2.7.6"
  }
 },
 "nbformat": 4,
 "nbformat_minor": 0
}
