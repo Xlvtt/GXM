{
 "cells": [
  {
   "cell_type": "markdown",
   "source": [
    "Ща будем смачно файнтюнить трансформер на классификацию научных текстов прям как хотели в домашке DLS"
   ],
   "metadata": {
    "collapsed": false
   }
  },
  {
   "cell_type": "markdown",
   "source": [
    "Для начала создадим датасет при помощи SentencePiece и"
   ],
   "metadata": {
    "collapsed": false
   }
  },
  {
   "cell_type": "code",
   "execution_count": 1,
   "outputs": [],
   "source": [
    "import torch\n",
    "from dataset import MathClassificationDataset\n",
    "from model import TransformerClassificationModel"
   ],
   "metadata": {
    "collapsed": false
   }
  },
  {
   "cell_type": "code",
   "execution_count": 2,
   "outputs": [],
   "source": [
    "DATASET_PATH = \"dataset.csv\"\n",
    "VOCAB_SIZE = 2000\n",
    "\n",
    "\n",
    "train_set = MathClassificationDataset(\n",
    "    dataset_path=DATASET_PATH,\n",
    "    vocab_size=VOCAB_SIZE,\n",
    "    tokenizer_model_name=\"bpe_tokenizer_2000\",\n",
    "    train=True\n",
    ")\n",
    "val_set = MathClassificationDataset(\n",
    "    dataset_path=DATASET_PATH,\n",
    "    vocab_size=VOCAB_SIZE,\n",
    "    tokenizer_model_name=\"bpe_tokenizer_2000\",\n",
    "    train=False\n",
    ")"
   ],
   "metadata": {
    "collapsed": false
   }
  },
  {
   "cell_type": "code",
   "execution_count": 5,
   "outputs": [
    {
     "data": {
      "text/plain": "tensor([[[7, 7],\n         [5, 5],\n         [0, 0]],\n\n        [[7, 7],\n         [5, 5],\n         [0, 0]]])"
     },
     "execution_count": 5,
     "metadata": {},
     "output_type": "execute_result"
    }
   ],
   "source": [
    "k = torch.tensor([\n",
    "    [1, 1],\n",
    "    [2, 2]\n",
    "], dtype=torch.int64)\n",
    "\n",
    "x = torch.tensor([\n",
    "    [\n",
    "        [1, 3],\n",
    "        [1, 2],\n",
    "        [0, 0]\n",
    "    ],\n",
    "    [\n",
    "        [1, 3],\n",
    "        [1, 2],\n",
    "        [0, 0]\n",
    "    ]\n",
    "], dtype=torch.int64)\n",
    "\n",
    "torch.matmul(x, k)"
   ],
   "metadata": {
    "collapsed": false
   }
  },
  {
   "cell_type": "code",
   "execution_count": null,
   "outputs": [],
   "source": [],
   "metadata": {
    "collapsed": false
   }
  }
 ],
 "metadata": {
  "kernelspec": {
   "display_name": "Python 3",
   "language": "python",
   "name": "python3"
  },
  "language_info": {
   "codemirror_mode": {
    "name": "ipython",
    "version": 2
   },
   "file_extension": ".py",
   "mimetype": "text/x-python",
   "name": "python",
   "nbconvert_exporter": "python",
   "pygments_lexer": "ipython2",
   "version": "2.7.6"
  }
 },
 "nbformat": 4,
 "nbformat_minor": 0
}
