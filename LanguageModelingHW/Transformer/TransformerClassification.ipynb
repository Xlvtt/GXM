{
 "cells": [
  {
   "cell_type": "markdown",
   "source": [
    "Ща будем смачно файнтюнить трансформер на классификацию научных текстов прям как хотели в домашке DLS"
   ],
   "metadata": {
    "collapsed": false
   }
  },
  {
   "cell_type": "markdown",
   "source": [
    "Для начала создадим датасет при помощи SentencePiece и"
   ],
   "metadata": {
    "collapsed": false
   }
  },
  {
   "cell_type": "code",
   "execution_count": 2,
   "outputs": [],
   "source": [
    "import math\n",
    "\n",
    "import pandas as pd\n",
    "import matplotlib.pyplot as plt\n",
    "import nltk\n",
    "from tqdm import tqdm\n",
    "\n",
    "from sklearn.feature_extraction.text import TfidfVectorizer\n",
    "\n",
    "\n",
    "import torch\n",
    "from torch.utils.data import DataLoader\n",
    "from torch import nn\n",
    "\n",
    "from dataset import MathClassificationDataset, SentencePieceTokenizer, NltkTokenizer\n",
    "from model import TransformerClassificationModel, LogisticRegression"
   ],
   "metadata": {
    "collapsed": false
   }
  },
  {
   "cell_type": "code",
   "execution_count": 3,
   "outputs": [],
   "source": [
    "DATASET_PATH = \"dataset.csv\""
   ],
   "metadata": {
    "collapsed": false
   }
  },
  {
   "cell_type": "code",
   "execution_count": 4,
   "outputs": [
    {
     "data": {
      "text/plain": "<Axes: >"
     },
     "execution_count": 4,
     "metadata": {},
     "output_type": "execute_result"
    },
    {
     "data": {
      "text/plain": "<Figure size 640x480 with 1 Axes>",
      "image/png": "[encoded data removed]"
     },
     "metadata": {},
     "output_type": "display_data"
    }
   ],
   "source": [
    "data = pd.read_csv(DATASET_PATH)\n",
    "lengths = data[\"problem_text\"].map(len)\n",
    "lengths.hist(bins=100)"
   ],
   "metadata": {
    "collapsed": false
   }
  },
  {
   "cell_type": "code",
   "execution_count": 5,
   "outputs": [],
   "source": [
    "MAX_LENGTH = 512\n",
    "\n",
    "sentence_piece_tokenizer = SentencePieceTokenizer(vocab_size=2000, tokenizer_model_name=\"bpe_tokenizer_2000\", dataset_path=DATASET_PATH)\n",
    "\n",
    "# nltk.download('wordnet')\n",
    "# nltk.download(\"stopwords\")\n",
    "nltk_tokenizer = NltkTokenizer(dataset_path=DATASET_PATH)\n",
    "\n",
    "train_set = MathClassificationDataset(\n",
    "    dataset_path=DATASET_PATH,\n",
    "    tokenizer=nltk_tokenizer,\n",
    "    max_length=MAX_LENGTH,\n",
    "    train=True\n",
    ")\n",
    "val_set = MathClassificationDataset(\n",
    "    dataset_path=DATASET_PATH,\n",
    "    tokenizer=nltk_tokenizer,\n",
    "    max_length=MAX_LENGTH,\n",
    "    train=False\n",
    ")"
   ],
   "metadata": {
    "collapsed": false
   }
  },
  {
   "cell_type": "code",
   "execution_count": 39,
   "outputs": [],
   "source": [
    "def prepare_text_for_tf_idf(ids, dataset: MathClassificationDataset):\n",
    "    filtered_ids = [ind for ind in ids if ind != dataset.pad_id and ind != dataset.eos_id and ind != dataset.bos_id]\n",
    "    return dataset.tokenizer.ids2text(filtered_ids)"
   ],
   "metadata": {
    "collapsed": false
   }
  },
  {
   "cell_type": "code",
   "execution_count": 40,
   "outputs": [],
   "source": [
    "def prepare_batch_for_tf_idf(batch, dataset):\n",
    "    prepared_dataset = []\n",
    "    for ids in batch:\n",
    "        prepared_dataset.append(prepare_text_for_tf_idf(ids, dataset))\n",
    "    return prepared_dataset"
   ],
   "metadata": {
    "collapsed": false
   }
  },
  {
   "cell_type": "code",
   "execution_count": 41,
   "outputs": [],
   "source": [
    "processed_train = prepare_batch_for_tf_idf(train_set.indices[\"problem_text\"], train_set)\n",
    "processed_val = prepare_batch_for_tf_idf(val_set.indices[\"problem_text\"], train_set)"
   ],
   "metadata": {
    "collapsed": false
   }
  },
  {
   "cell_type": "markdown",
   "source": [
    "Посмотрим на число токенов в полученных текстах"
   ],
   "metadata": {
    "collapsed": false
   }
  },
  {
   "cell_type": "code",
   "execution_count": 42,
   "outputs": [
    {
     "data": {
      "text/plain": "3302"
     },
     "execution_count": 42,
     "metadata": {},
     "output_type": "execute_result"
    }
   ],
   "source": [
    "found = set()\n",
    "for text in processed_train + processed_val:\n",
    "    for word in text.split():\n",
    "        found.add(word)\n",
    "len(found)"
   ],
   "metadata": {
    "collapsed": false
   }
  },
  {
   "cell_type": "markdown",
   "source": [
    "В словаре как раз на три служебных больше"
   ],
   "metadata": {
    "collapsed": false
   }
  },
  {
   "cell_type": "code",
   "execution_count": 43,
   "outputs": [
    {
     "data": {
      "text/plain": "3305"
     },
     "execution_count": 43,
     "metadata": {},
     "output_type": "execute_result"
    }
   ],
   "source": [
    "nltk_tokenizer.vocab_size()"
   ],
   "metadata": {
    "collapsed": false
   }
  },
  {
   "cell_type": "markdown",
   "source": [
    "Но 23 токена куда-то деваются при tf-idf векторизации... Оказывается, дело в регулярном выражении, которое не допускало токены из одного символа"
   ],
   "metadata": {
    "collapsed": false
   }
  },
  {
   "cell_type": "code",
   "execution_count": 44,
   "outputs": [
    {
     "data": {
      "text/plain": "(5273, 3302)"
     },
     "execution_count": 44,
     "metadata": {},
     "output_type": "execute_result"
    }
   ],
   "source": [
    "tf_idf = TfidfVectorizer(token_pattern=r\"(?u)\\b\\w+\\b\").fit(processed_train + processed_val)\n",
    "tf_idf.transform(processed_train + processed_val).toarray().shape"
   ],
   "metadata": {
    "collapsed": false
   }
  },
  {
   "cell_type": "code",
   "execution_count": 196,
   "outputs": [],
   "source": [
    "BATCH_SIZE = 512  # Небольшой батч для большей регуляризации (чтобы с меньшим риском попасть в узкий минимум)\n",
    "NUM_EPOCHS = 35\n",
    "\n",
    "baseline = LogisticRegression(text_embedding_dim=train_set.vocab_size - 3, dataset=train_set)\n",
    "train_loader = DataLoader(train_set, batch_size=BATCH_SIZE, shuffle=True)\n",
    "val_loader = DataLoader(val_set, batch_size=BATCH_SIZE, shuffle=True)\n",
    "# optimizer = torch.optim.SGD(baseline.parameters(), momentum=0.9, lr=0.001, weight_decay=0.7)\n",
    "optimizer = torch.optim.Adam(baseline.parameters(), lr=0.00005, weight_decay=0.4)  # адаптивный шаг хорош для разреженных признаков\n",
    "criterion = nn.CrossEntropyLoss()"
   ],
   "metadata": {
    "collapsed": false
   }
  },
  {
   "cell_type": "code",
   "execution_count": 197,
   "outputs": [],
   "source": [
    "from train import plot_losses\n",
    "\n",
    "\n",
    "def training_epoch(model, loader, dataset, optimizer, criterion, tqdm_desc):\n",
    "    epoch_loss = 0\n",
    "    epoch_accuracy = 0\n",
    "\n",
    "    for batch, labels in tqdm(loader, tqdm_desc):\n",
    "        processed_batch_list = prepare_batch_for_tf_idf(batch.cpu().tolist(), dataset)\n",
    "        #print(tf_idf.transform(processed_batch_list).toarray())\n",
    "        batch = torch.tensor(tf_idf.transform(processed_batch_list).toarray(), dtype=torch.float)\n",
    "\n",
    "        optimizer.zero_grad()\n",
    "        logits = model(batch)\n",
    "        loss = criterion(logits, labels)\n",
    "        loss.backward()\n",
    "        optimizer.step()\n",
    "\n",
    "        epoch_loss += loss.item()\n",
    "        epoch_accuracy += torch.sum(torch.argmax(logits, dim=-1) == labels) / len(batch)\n",
    "\n",
    "    return epoch_loss / len(loader), epoch_accuracy / len(loader)\n",
    "\n",
    "\n",
    "@torch.no_grad()\n",
    "def validating_epoch(model, loader, dataset, optimizer, criterion, tqdm_desc):\n",
    "    epoch_loss = 0\n",
    "    epoch_accuracy = 0\n",
    "\n",
    "    for batch, labels in tqdm(loader, tqdm_desc):\n",
    "        processed_batch_list = prepare_batch_for_tf_idf(batch.cpu().tolist(), dataset)\n",
    "        batch = torch.tensor(tf_idf.transform(processed_batch_list).toarray(), dtype=torch.float)\n",
    "\n",
    "        optimizer.zero_grad()\n",
    "        logits = model(batch)\n",
    "        loss = criterion(logits, labels)\n",
    "\n",
    "        epoch_loss += loss.item()\n",
    "        epoch_accuracy += torch.sum(torch.argmax(logits, dim=-1) == labels) / len(batch)\n",
    "\n",
    "    return epoch_loss / len(loader), epoch_accuracy / len(loader)\n",
    "\n",
    "\n",
    "def train(model, train_loader, train_set, val_loader, val_set, optimizer, criterion, num_epochs):\n",
    "    train_losses, train_accuracies = [], []\n",
    "    val_losses, val_accuracies = [], []\n",
    "\n",
    "    for epoch in range(1, num_epochs + 1):\n",
    "        train_loss, train_accuracy = training_epoch(\n",
    "            model, train_loader, train_set, optimizer, criterion,\n",
    "            tqdm_desc=f\"training on epoch {epoch} / {num_epochs}\"\n",
    "        )\n",
    "        train_losses.append(train_loss)\n",
    "        train_accuracies.append(train_accuracy)\n",
    "\n",
    "        val_loss, val_accuracy = validating_epoch(\n",
    "            model, val_loader, val_set, optimizer, criterion,\n",
    "            tqdm_desc=f\"validating on epoch {epoch} / {num_epochs}\"\n",
    "        )\n",
    "        val_losses.append(val_loss)\n",
    "        val_accuracies.append(val_accuracy)\n",
    "\n",
    "        plot_losses(train_losses, train_accuracies, val_losses, val_accuracies)"
   ],
   "metadata": {
    "collapsed": false
   }
  },
  {
   "cell_type": "code",
   "execution_count": 198,
   "outputs": [
    {
     "data": {
      "text/plain": "<Figure size 1300x400 with 2 Axes>",
      "image/png": "[encoded data removed]"
     },
     "metadata": {},
     "output_type": "display_data"
    }
   ],
   "source": [
    "train(baseline, train_loader, train_set, val_loader, val_set, optimizer, criterion, num_epochs=NUM_EPOCHS)"
   ],
   "metadata": {
    "collapsed": false
   }
  },
  {
   "cell_type": "markdown",
   "source": [
    "Чтобы регуляризовать модель, я использовал не слишком большой размер батча (64 - 128 - 256 - 512), тк похоже, что мы попали в какой-то узкий минимум. Попробовать можно также"
   ],
   "metadata": {
    "collapsed": false
   }
  },
  {
   "cell_type": "markdown",
   "source": [],
   "metadata": {
    "collapsed": false
   }
  },
  {
   "cell_type": "code",
   "execution_count": 23,
   "outputs": [
    {
     "data": {
      "text/plain": "tensor([[[7, 7],\n         [5, 5],\n         [0, 0]],\n\n        [[7, 7],\n         [5, 5],\n         [0, 0]]])"
     },
     "execution_count": 23,
     "metadata": {},
     "output_type": "execute_result"
    }
   ],
   "source": [
    "k = torch.tensor([\n",
    "    [1, 1],\n",
    "    [2, 2]\n",
    "], dtype=torch.int64)\n",
    "\n",
    "x = torch.tensor([\n",
    "    [\n",
    "        [1, 3],\n",
    "        [1, 2],\n",
    "        [0, 0]\n",
    "    ],\n",
    "    [\n",
    "        [1, 3],\n",
    "        [1, 2],\n",
    "        [0, 0]\n",
    "    ]\n",
    "], dtype=torch.int64)\n",
    "\n",
    "torch.matmul(x, k)"
   ],
   "metadata": {
    "collapsed": false
   }
  }
 ],
 "metadata": {
  "kernelspec": {
   "display_name": "Python 3",
   "language": "python",
   "name": "python3"
  },
  "language_info": {
   "codemirror_mode": {
    "name": "ipython",
    "version": 2
   },
   "file_extension": ".py",
   "mimetype": "text/x-python",
   "name": "python",
   "nbconvert_exporter": "python",
   "pygments_lexer": "ipython2",
   "version": "2.7.6"
  }
 },
 "nbformat": 4,
 "nbformat_minor": 0
}
